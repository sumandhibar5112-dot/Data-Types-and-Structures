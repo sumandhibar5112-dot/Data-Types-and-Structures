{
  "nbformat": 4,
  "nbformat_minor": 0,
  "metadata": {
    "colab": {
      "provenance": []
    },
    "kernelspec": {
      "name": "python3",
      "display_name": "Python 3"
    },
    "language_info": {
      "name": "python"
    }
  },
  "cells": [
    {
      "cell_type": "code",
      "execution_count": null,
      "metadata": {
        "id": "JFpQ5s1zmVa-"
      },
      "outputs": [],
      "source": []
    },
    {
      "cell_type": "markdown",
      "source": [
        "**1.What are data structures, and why are they important?**\n",
        "\n",
        "Data structures are specialized formats for organizing, processing, and storing data in a computer so that it can be accessed and modified efficiently. They define the relationship between the data and the operations that can be performed on them.\n",
        "\n",
        "2.**Explain the difference between mutable and immutable data types with examples?**\n",
        "\n",
        "Difference Between Mutable and Immutable Data Types\n",
        "\n",
        "The core difference between mutable and immutable data types is:\n",
        "\n",
        "Mutable: Can be changed after creation.\n",
        "\n",
        "Immutable: Cannot be changed once created. Any operation that seems to modify it will instead create a new object.\n",
        "\n",
        "**3.What are the main differences between lists and tuples in Python?**\n",
        "\n",
        "The core difference between mutable and immutable data types is:\n",
        "\n",
        "Mutable: Can be changed after creation.\n",
        "\n",
        "Immutable: Cannot be changed once created. Any operation that seems to modify it will instead create a new object.\n",
        "\n",
        "**4.Describe how dictionaries store data?**\n",
        "\n",
        "A dictionary in Python is an unordered, mutable, key-value data structure.\n",
        "\n",
        "Behind the scenes, Python dictionaries use a highly optimized hash table implementation.\n",
        "\n",
        "**5.Why might you use a set instead of a list in Python?**\n",
        "Sets automatically remove duplicate elements.\n",
        "You want unique values\n",
        "\n",
        "You need fast lookups\n",
        "\n",
        "You want to use set logic operations\n",
        "\n",
        "You don’t need indexing or duplicate values\n",
        "\n",
        "**6.What is a string in Python, and how is it different from a list?**\n",
        "\n",
        "A string in Python is a sequence of characters enclosed in quotes.\n",
        "It’s used to represent textual data.\n",
        "a)String\n",
        "Only characters (text)\n",
        " Immutable\n",
        "\n",
        " Cannot change characters\n",
        "\n",
        " Text and characters\n",
        "\n",
        " b)List\n",
        "\n",
        " Any data type (numbers, strings, etc.)\n",
        "\n",
        "  Mutable\n",
        "\n",
        "General collections of items\n",
        "\n",
        "**7.How do tuples ensure data integrity in Python?**\n",
        "\n",
        "Tuples help ensure data integrity by being immutable — once created, their contents cannot be changed. This characteristic makes tuples especially useful in situations where data must remain constant and secure.\n",
        "\n",
        "**8.What is a hash table, and how does it relate to dictionaries in Python?**\n",
        "A hash table is a data structure that stores key-value pairs and provides fast access to values based on their keys.\n",
        "\n",
        "It works by using a hash function to convert a key into a numerical index, which determines where the value is stored in memory.\n",
        "\n",
        "**9.Can lists contain different data types in Python?**\n",
        "\n",
        "Python lists are heterogeneous, meaning they can store elements of any data type, all in the same list.\n",
        "\n",
        "**10.Explain why strings are immutable in Python.**\n",
        "\n",
        "In Python, strings are immutable, meaning that once a string is created, it cannot be changed.\n",
        "\n",
        "This is a deliberate design choice made for reasons like performance, security, and simplicity.\n",
        "\n",
        "**11.What advantages do dictionaries offer over lists for certain tasks?**\n",
        "\n",
        "While both lists and dictionaries store collections of data, dictionaries offer significant advantages for certain tasks—especially when it comes to data lookup, labeling, and organization\n",
        "\n",
        "Dictionaries provide constant-time lookup using keys.\n",
        "\n",
        "Lists require a linear search when searching by value or index.\n",
        "\n",
        "**12.Describe a scenario where using a tuple would be preferable over a list?**\n",
        "\n",
        "Use a tuple when you want to represent a fixed collection of items that should not change.\n",
        " Immutability\tThe coordinates shouldn’t change accidentally after being returned.\n",
        "Semantic clarity\tUsing a tuple communicates that the structure is fixed and positional.\n",
        " Performance\tTuples are slightly faster and use less memory than lists.\n",
        "\n",
        " 13.How do sets handle duplicate values in Python?\n",
        "\n",
        " sets automatically eliminate duplicate values.\n",
        " A set cannot contain duplicate elements.\n",
        "If duplicates are added, only one unique instance is kept\n",
        "\n",
        "**14.How does the “in” keyword work differently for lists and dictionaries?**\n",
        "Checks whether an element exists in the list.\n",
        "\n",
        "Performs a linear search: checks each item one by one.\n",
        "\n",
        "Time complexity O(n)\n",
        "\n",
        "in with Dictionaries\n",
        "\n",
        "Checks whether a key exists in the dictionary — not a value.\n",
        "\n",
        "Performs a hash table lookup.\n",
        "\n",
        "Time complexity: O(1) average case.\n",
        "\n",
        "`**15.Can you modify the elements of a tuple? Explain why or why not?**\n",
        "\n",
        "No, you cannot modify the elements of a tuple directly — tuples are immutable in Python.\n",
        "You cannot change, add, or remove items.\n",
        "\n",
        "Any attempt to do so will result in a TypeError\n",
        "\n",
        "**16.What is a nested dictionary, and give an example of its use case?**\n",
        "A nested dictionary is a dictionary inside another dictionary.\n",
        "That means each value in the outer dictionary can itself be a dictionary.\n",
        "nested_dict = {\n",
        "    \"student1\": {\"name\": \"Alice\", \"grade\": \"A\"},\n",
        "    \"student2\": {\"name\": \"Bob\", \"grade\": \"B\"},\n",
        "}\n",
        "\n",
        "Outer dictionary keys: \"student1\", \"student2\"\n",
        "\n",
        "Inner dictionaries: hold info like \"name\" and \"grade\" for each student\n",
        "\n",
        "**17.Describe the time complexity of accessing elements in a dictionary?**\n",
        "Python dictionaries are implemented using hash tables.\n",
        "Python calls hash(\"age\") to get the hash value.\n",
        "\n",
        "That hash maps directly to a location in memory.\n",
        "\n",
        "The value is retrieved immediately — no need to search through the dictionary.\n",
        "\n",
        "**18.In what situations are lists preferred over dictionaries?**\n",
        "\n",
        "While dictionaries are great for fast lookups by key, there are many situations where lists are a better choice.\n",
        "\n",
        "Lists maintain the order of items naturally.\n",
        "\n",
        "Ideal for ordered data (like time series, steps in a process, etc.).\n",
        "\n",
        "Lists are perfect for iterating in the order items were added.\n",
        "Lists are easier to manipulate when it comes to:\n",
        "\n",
        "Appending\n",
        "\n",
        "Inserting\n",
        "\n",
        "Removing by index or value\n",
        "\n",
        "**19.Why are dictionaries considered unordered, and how does that affect data retrieval?**\n",
        "The order of items when you iterate over a dictionary matches the order in which you added them.\n",
        "\n",
        "However, dictionaries are still not intended to be used like ordered lists — order is preserved, but not guaranteed to be stable under all operations\n",
        "\n",
        "**20.Explain the difference between a list and a dictionary in terms of data retrieval?**\n",
        "\n",
        "Lists and dictionaries are both used to store collections of data in Python, but they differ significantly in how you retrieve that data.\n",
        "\n",
        "Lists store ordered sequences of elements.\n",
        "\n",
        "You access items using their index (position).\n",
        "\n",
        "Indices are integers starting from 0."
      ],
      "metadata": {
        "id": "iOZaMvk-oR4_"
      }
    },
    {
      "cell_type": "code",
      "source": [
        "#1.Write a code to create a string with your name and print it\n",
        "my_name = \"Suman\"\n",
        "print(my_name)\n"
      ],
      "metadata": {
        "colab": {
          "base_uri": "https://localhost:8080/"
        },
        "id": "OXgB-qywzEPM",
        "outputId": "48adedb4-e739-4c11-9153-8eeff9b1bf50"
      },
      "execution_count": 1,
      "outputs": [
        {
          "output_type": "stream",
          "name": "stdout",
          "text": [
            "Suman\n"
          ]
        }
      ]
    },
    {
      "cell_type": "code",
      "source": [
        "#2.Write a code to find the length of the string \"Hello World\"\n",
        "my_string = \"Hello World\"\n",
        "string_length = len(my_string)\n",
        "print(string_length)"
      ],
      "metadata": {
        "colab": {
          "base_uri": "https://localhost:8080/"
        },
        "id": "UWafjUTo3Ija",
        "outputId": "beb9de55-3642-458a-ce76-1ee76d133f45"
      },
      "execution_count": 3,
      "outputs": [
        {
          "output_type": "stream",
          "name": "stdout",
          "text": [
            "11\n"
          ]
        }
      ]
    },
    {
      "cell_type": "code",
      "source": [
        "#3. Write a code to slice the first 3 characters from the string \"Python Programming\"\n",
        "my_string = \"Python Programming\"\n",
        "sliced_string = my_string[:3]\n",
        "print(sliced_string)"
      ],
      "metadata": {
        "colab": {
          "base_uri": "https://localhost:8080/"
        },
        "id": "7TkHjTim5QQ1",
        "outputId": "afe95cce-077a-4a93-e843-4f00cbfcee15"
      },
      "execution_count": 2,
      "outputs": [
        {
          "output_type": "stream",
          "name": "stdout",
          "text": [
            "Pyt\n"
          ]
        }
      ]
    },
    {
      "cell_type": "code",
      "source": [
        "#4.Write a code to convert the string \"hello\" to uppercase\n",
        "my_string = \"hello\"\n",
        "uppercase_string = my_string.upper()\n",
        "print(uppercase_string)\n"
      ],
      "metadata": {
        "colab": {
          "base_uri": "https://localhost:8080/"
        },
        "id": "vfWnWsBr5iCX",
        "outputId": "e3da03ff-a6b9-4ec1-a458-44e88a274ae5"
      },
      "execution_count": 4,
      "outputs": [
        {
          "output_type": "stream",
          "name": "stdout",
          "text": [
            "HELLO\n"
          ]
        }
      ]
    },
    {
      "cell_type": "code",
      "source": [
        "#5.Write a code to replace the word \"apple\" with \"orange\" in the string \"I like apple\"\n",
        "my_string = \"I like apple\"\n",
        "replaced_string = my_string.replace(\"apple\", \"orange\")\n",
        "print(replaced_string)"
      ],
      "metadata": {
        "colab": {
          "base_uri": "https://localhost:8080/"
        },
        "id": "TQI5DOQX5jew",
        "outputId": "46ace6dd-4f0b-46e1-cae9-ce8c61d3b17b"
      },
      "execution_count": 5,
      "outputs": [
        {
          "output_type": "stream",
          "name": "stdout",
          "text": [
            "I like orange\n"
          ]
        }
      ]
    },
    {
      "cell_type": "code",
      "source": [
        "#6.P Write a code to create a list with numbers 1 to 5 and print it\n",
        "my_list = [1, 2, 3, 4, 5]\n",
        "print(my_list)"
      ],
      "metadata": {
        "colab": {
          "base_uri": "https://localhost:8080/"
        },
        "id": "lDbRVV-35jmK",
        "outputId": "b85b5a3f-f742-45f6-9b29-c7bc095638a7"
      },
      "execution_count": 6,
      "outputs": [
        {
          "output_type": "stream",
          "name": "stdout",
          "text": [
            "[1, 2, 3, 4, 5]\n"
          ]
        }
      ]
    },
    {
      "cell_type": "code",
      "source": [
        "#7.Write a code to append the number 10 to the list [1, 2, 3, 4]\n",
        "my_list = [1, 2, 3, 4]\n",
        "my_list.append(10)\n",
        "print(my_list)"
      ],
      "metadata": {
        "colab": {
          "base_uri": "https://localhost:8080/"
        },
        "id": "6NpUI5_j53qI",
        "outputId": "3c23338f-200a-47d0-9704-ae02220baa8b"
      },
      "execution_count": 11,
      "outputs": [
        {
          "output_type": "stream",
          "name": "stdout",
          "text": [
            "[1, 2, 3, 4, 10]\n"
          ]
        }
      ]
    },
    {
      "cell_type": "code",
      "source": [
        "#8.Write a code to remove the number 3 from the list [1, 2, 3, 4, 5]\n",
        "my_list = [1, 2, 3, 4, 5]\n",
        "my_list.remove(3)\n",
        "print(my_list)"
      ],
      "metadata": {
        "colab": {
          "base_uri": "https://localhost:8080/"
        },
        "id": "nHZsSjkw53xJ",
        "outputId": "472b4629-ed3e-444c-d532-cfa537f9993e"
      },
      "execution_count": 12,
      "outputs": [
        {
          "output_type": "stream",
          "name": "stdout",
          "text": [
            "[1, 2, 4, 5]\n"
          ]
        }
      ]
    },
    {
      "cell_type": "code",
      "source": [
        "#9.Write a code to access the second element in the list ['a', 'b', 'c', 'd']\n",
        "my_list = ['a', 'b', 'c', 'd']\n",
        "second_element = my_list[1]\n",
        "print(second_element)\n"
      ],
      "metadata": {
        "colab": {
          "base_uri": "https://localhost:8080/"
        },
        "id": "XzBGlQO4534L",
        "outputId": "450ab30f-81dc-41a3-a9ba-2704f4979434"
      },
      "execution_count": 13,
      "outputs": [
        {
          "output_type": "stream",
          "name": "stdout",
          "text": [
            "b\n"
          ]
        }
      ]
    },
    {
      "cell_type": "code",
      "source": [
        "#10.Write a code to reverse the list [10, 20, 30, 40, 50].\n",
        "my_list = [10, 20, 30, 40, 50]\n",
        "reversed_list = my_list[::-1]\n",
        "print(reversed_list)"
      ],
      "metadata": {
        "colab": {
          "base_uri": "https://localhost:8080/"
        },
        "id": "908tRdY66fWZ",
        "outputId": "4da3949b-8e16-497c-dfe7-9961ee47dfab"
      },
      "execution_count": 14,
      "outputs": [
        {
          "output_type": "stream",
          "name": "stdout",
          "text": [
            "[50, 40, 30, 20, 10]\n"
          ]
        }
      ]
    },
    {
      "cell_type": "code",
      "source": [
        "#11.Write a code to create a tuple with the elements 100, 200, 300 and print it\n",
        "my_tuple = (100, 200, 300)\n",
        "print(my_tuple)"
      ],
      "metadata": {
        "colab": {
          "base_uri": "https://localhost:8080/"
        },
        "id": "OfhjP1EQ69IA",
        "outputId": "64d64c0d-36d6-4c65-ef8a-dd3b9ee4263d"
      },
      "execution_count": 37,
      "outputs": [
        {
          "output_type": "stream",
          "name": "stdout",
          "text": [
            "(100, 200, 300)\n"
          ]
        }
      ]
    },
    {
      "cell_type": "code",
      "source": [
        "#12.Write a code to access the second-to-last element of the tuple ('red', 'green', 'blue', 'yellow').\n",
        "my_tuple = ('red', 'green', 'blue', 'yellow')\n",
        "second_to_last_element = my_tuple[-2]\n",
        "print(second_to_last_element)\n",
        "\n"
      ],
      "metadata": {
        "colab": {
          "base_uri": "https://localhost:8080/"
        },
        "id": "GPw0UuQF69Pe",
        "outputId": "a0fbe882-e603-4ae9-e625-70e90b0b0d89"
      },
      "execution_count": 36,
      "outputs": [
        {
          "output_type": "stream",
          "name": "stdout",
          "text": [
            "blue\n"
          ]
        }
      ]
    },
    {
      "cell_type": "code",
      "source": [
        "#13.. Write a code to find the minimum number in the tuple (10, 20, 5, 15).\n",
        "my_tuple = (10, 20, 5, 15)\n",
        "minimum_number = min(my_tuple)\n",
        "print(minimum_number)"
      ],
      "metadata": {
        "colab": {
          "base_uri": "https://localhost:8080/"
        },
        "id": "adwZnyZb69W3",
        "outputId": "a7ce2ea1-0474-4d09-8086-065269d9327a"
      },
      "execution_count": 35,
      "outputs": [
        {
          "output_type": "stream",
          "name": "stdout",
          "text": [
            "5\n"
          ]
        }
      ]
    },
    {
      "cell_type": "code",
      "source": [
        "#14. Write a code to find the index of the element \"cat\" in the tuple ('dog', 'cat', 'rabbit')\n",
        "my_tuple = ('dog', 'cat', 'rabbit')\n",
        "index_of_cat = my_tuple.index('cat')\n",
        "print(index_of_cat)"
      ],
      "metadata": {
        "colab": {
          "base_uri": "https://localhost:8080/"
        },
        "id": "zcp6xMnU69d4",
        "outputId": "bbabeaf0-b241-4f71-9210-ff1ec560fb05"
      },
      "execution_count": 34,
      "outputs": [
        {
          "output_type": "stream",
          "name": "stdout",
          "text": [
            "1\n"
          ]
        }
      ]
    },
    {
      "cell_type": "code",
      "source": [
        "#15. Write a code to create a tuple containing three different fruits and check if \"kiwi\" is in it\n",
        "my_tuple = ('apple', 'banana', 'cherry')\n",
        "is_kiwi_in_tuple = 'kiwi' in my_tuple\n",
        "print(is_kiwi_in_tuple)"
      ],
      "metadata": {
        "colab": {
          "base_uri": "https://localhost:8080/"
        },
        "id": "GvR83ewv69kp",
        "outputId": "8d75096e-6be9-47ee-f39a-4caec8056e59"
      },
      "execution_count": 33,
      "outputs": [
        {
          "output_type": "stream",
          "name": "stdout",
          "text": [
            "False\n"
          ]
        }
      ]
    },
    {
      "cell_type": "code",
      "source": [
        "#16.Write a code to create a set with the elements 'a', 'b', 'c' and print it.\n",
        "my_set = {'a', 'b', 'c'}\n",
        "print(my_set)"
      ],
      "metadata": {
        "colab": {
          "base_uri": "https://localhost:8080/"
        },
        "id": "ofmtViHz69st",
        "outputId": "4f893119-77d2-4cba-f146-2e8430e757fd"
      },
      "execution_count": 32,
      "outputs": [
        {
          "output_type": "stream",
          "name": "stdout",
          "text": [
            "{'a', 'b', 'c'}\n"
          ]
        }
      ]
    },
    {
      "cell_type": "code",
      "source": [
        "#17. Write a code to clear all elements from the set {1, 2, 3, 4, 5}.\n",
        "my_set = {1, 2, 3, 4, 5}\n",
        "my_set.clear()\n",
        "print(my_set)"
      ],
      "metadata": {
        "colab": {
          "base_uri": "https://localhost:8080/"
        },
        "id": "aFMmOSuT69zc",
        "outputId": "4f7a1b39-68b4-44c8-d0fa-3a11d11c0a65"
      },
      "execution_count": 31,
      "outputs": [
        {
          "output_type": "stream",
          "name": "stdout",
          "text": [
            "set()\n"
          ]
        }
      ]
    },
    {
      "cell_type": "code",
      "source": [
        "#18. Write a code to remove the element 4 from the set {1, 2, 3, 4}.\n",
        "my_set = {1, 2, 3, 4}\n",
        "my_set.remove(4)\n",
        "print(my_set)"
      ],
      "metadata": {
        "colab": {
          "base_uri": "https://localhost:8080/"
        },
        "id": "SKCYlPTZ696-",
        "outputId": "68518b36-38e2-4895-cb73-1f3bd105dd5c"
      },
      "execution_count": 29,
      "outputs": [
        {
          "output_type": "stream",
          "name": "stdout",
          "text": [
            "{1, 2, 3}\n"
          ]
        }
      ]
    },
    {
      "cell_type": "code",
      "source": [
        "#19. Write a code to find the union of two sets {1, 2, 3} and {3, 4, 5}.\n",
        "my_set1 = {1, 2, 3}\n",
        "my_set2 = {3, 4, 5}\n",
        "union_set = my_set1.union(my_set2)\n",
        "print(union_set)"
      ],
      "metadata": {
        "colab": {
          "base_uri": "https://localhost:8080/"
        },
        "id": "j7XFleAW6-B5",
        "outputId": "cd45c065-5ca9-439b-9285-ad2c97ce65d2"
      },
      "execution_count": 30,
      "outputs": [
        {
          "output_type": "stream",
          "name": "stdout",
          "text": [
            "{1, 2, 3, 4, 5}\n"
          ]
        }
      ]
    },
    {
      "cell_type": "code",
      "source": [
        "#20.Write a code to find the intersection of two sets {1, 2, 3} and {2, 3, 4}.\n",
        "my_set1 = {1, 2, 3}\n",
        "my_set2 = {2, 3, 4}\n",
        "intersection_set = my_set1.intersection(my_set2)\n",
        "print(intersection_set)"
      ],
      "metadata": {
        "colab": {
          "base_uri": "https://localhost:8080/"
        },
        "id": "HjPwHyHu6-Jo",
        "outputId": "de13138c-b690-450b-f29a-98139c119a8e"
      },
      "execution_count": 28,
      "outputs": [
        {
          "output_type": "stream",
          "name": "stdout",
          "text": [
            "{2, 3}\n"
          ]
        }
      ]
    },
    {
      "cell_type": "code",
      "source": [
        "#21. Write a code to create a dictionary with the keys \"name\", \"age\", and \"city\", and print it.\n",
        "my_dict = {'name': 'John', 'age': 25, 'city': 'New York'}\n",
        "print(my_dict)"
      ],
      "metadata": {
        "colab": {
          "base_uri": "https://localhost:8080/"
        },
        "id": "tBxqHjQ96-QB",
        "outputId": "873716ea-2768-492f-aac1-4616d6e39c71"
      },
      "execution_count": 27,
      "outputs": [
        {
          "output_type": "stream",
          "name": "stdout",
          "text": [
            "{'name': 'John', 'age': 25, 'city': 'New York'}\n"
          ]
        }
      ]
    },
    {
      "cell_type": "code",
      "source": [
        "#22.Write a code to add a new key-value pair \"country\": \"USA\" to the dictionary {'name': 'John', 'age': 25}.\n",
        "my_dict = {'name': 'John', 'age': 25}\n",
        "my_dict['country'] = 'USA'\n",
        "print(my_dict)"
      ],
      "metadata": {
        "colab": {
          "base_uri": "https://localhost:8080/"
        },
        "id": "kSOO311t6-XM",
        "outputId": "f66d3413-d911-4bb2-feeb-3ae0f1751983"
      },
      "execution_count": 26,
      "outputs": [
        {
          "output_type": "stream",
          "name": "stdout",
          "text": [
            "{'name': 'John', 'age': 25, 'country': 'USA'}\n"
          ]
        }
      ]
    },
    {
      "cell_type": "code",
      "source": [
        "#23. Write a code to access the value associated with the key \"name\" in the dictionary {'name': 'Alice', 'age': 30}\n",
        "my_dict = {'name': 'Alice', 'age': 30}\n",
        "name_value = my_dict['name']\n",
        "print(name_value)"
      ],
      "metadata": {
        "colab": {
          "base_uri": "https://localhost:8080/"
        },
        "id": "RMQ6STro6-dr",
        "outputId": "6e1a8dca-ff18-47a2-b6de-b996c129691f"
      },
      "execution_count": 25,
      "outputs": [
        {
          "output_type": "stream",
          "name": "stdout",
          "text": [
            "Alice\n"
          ]
        }
      ]
    },
    {
      "cell_type": "code",
      "source": [
        "#24. Write a code to remove the key \"age\" from the dictionary {'name': 'Bob', 'age': 22, 'city': 'New York'}.\n",
        "my_dict = {'name': 'Bob', 'age': 22, 'city': 'New York'}\n",
        "del my_dict['age']\n",
        "print(my_dict)"
      ],
      "metadata": {
        "colab": {
          "base_uri": "https://localhost:8080/"
        },
        "id": "XlHMBDlo6-kp",
        "outputId": "566eada9-fb0e-4af4-e1f0-87c70ff784c5"
      },
      "execution_count": 24,
      "outputs": [
        {
          "output_type": "stream",
          "name": "stdout",
          "text": [
            "{'name': 'Bob', 'city': 'New York'}\n"
          ]
        }
      ]
    },
    {
      "cell_type": "code",
      "source": [
        " #25.Write a code to check if the key \"city\" exists in the dictionary {'name': 'Alice', 'city': 'Paris'}\n",
        " my_dict = {'name': 'Alice', 'city': 'Paris'}\n",
        "is_city_key_present = 'city' in my_dict\n",
        "print(is_city_key_present)"
      ],
      "metadata": {
        "colab": {
          "base_uri": "https://localhost:8080/"
        },
        "id": "edlrsMht6-rb",
        "outputId": "23fcc44c-1e73-48c2-8971-59221aa0b996"
      },
      "execution_count": 23,
      "outputs": [
        {
          "output_type": "stream",
          "name": "stdout",
          "text": [
            "True\n"
          ]
        }
      ]
    },
    {
      "cell_type": "code",
      "source": [
        "#26. Write a code to create a list, a tuple, and a dictionary, and print them all.\n",
        "my_list = [1, 2, 3, 4, 5]"
      ],
      "metadata": {
        "id": "7KgbsJgi6-yZ"
      },
      "execution_count": 22,
      "outputs": []
    },
    {
      "cell_type": "code",
      "source": [
        "#27. Write a code to create a list of 5 random numbers between 1 and 100, sort it in ascending order, and print the result.(replaced)\n",
        "import random\n",
        "random_numbers = [random.randint(1, 100) for _ in range(5)]\n",
        "random_numbers.sort()\n",
        "print(random_numbers)\n"
      ],
      "metadata": {
        "colab": {
          "base_uri": "https://localhost:8080/"
        },
        "id": "-AHBxQ7i6-5W",
        "outputId": "bd1b0d2b-02f5-4589-bc19-08dea29a6114"
      },
      "execution_count": 21,
      "outputs": [
        {
          "output_type": "stream",
          "name": "stdout",
          "text": [
            "[50, 57, 64, 70, 98]\n"
          ]
        }
      ]
    },
    {
      "cell_type": "code",
      "source": [
        "#28.Write a code to create a list with strings and print the element at the third index\n",
        "my_list = ['apple', 'banana', 'cherry', 'date', 'elderberry']\n",
        "third_element = my_list[2]\n",
        "print(third_element)"
      ],
      "metadata": {
        "colab": {
          "base_uri": "https://localhost:8080/"
        },
        "id": "0tDieeez6_AN",
        "outputId": "dda25e44-c3f4-4507-c2ae-283502fa55cb"
      },
      "execution_count": 17,
      "outputs": [
        {
          "output_type": "stream",
          "name": "stdout",
          "text": [
            "cherry\n"
          ]
        }
      ]
    },
    {
      "cell_type": "code",
      "source": [
        "#29.Write a code to combine two dictionaries into one and print the result.\n",
        "dict1 = {'a': 1, 'b': 2}\n",
        "dict2 = {'c': 3, 'd': 4}\n",
        "combined_dict = {**dict1, **dict2}\n",
        "print(combined_dict)"
      ],
      "metadata": {
        "colab": {
          "base_uri": "https://localhost:8080/"
        },
        "id": "ZVzHVHzK6_HS",
        "outputId": "ef88fc3f-f326-4ddf-fa3f-16bdfde09eff"
      },
      "execution_count": 16,
      "outputs": [
        {
          "output_type": "stream",
          "name": "stdout",
          "text": [
            "{'a': 1, 'b': 2, 'c': 3, 'd': 4}\n"
          ]
        }
      ]
    },
    {
      "cell_type": "code",
      "source": [
        "#30. Write a code to convert a list of strings into a set.\n",
        "my_list = ['apple', 'banana', 'cherry', 'apple', 'banana']\n",
        "my_set = set(my_list)\n",
        "print(my_set)"
      ],
      "metadata": {
        "colab": {
          "base_uri": "https://localhost:8080/"
        },
        "id": "zHa4Rvh16_PW",
        "outputId": "8c2d8457-b7c1-4451-fa48-533dc3ce2976"
      },
      "execution_count": 15,
      "outputs": [
        {
          "output_type": "stream",
          "name": "stdout",
          "text": [
            "{'apple', 'cherry', 'banana'}\n"
          ]
        }
      ]
    },
    {
      "cell_type": "code",
      "source": [],
      "metadata": {
        "id": "FcxSTmwz_3lc"
      },
      "execution_count": null,
      "outputs": []
    }
  ]
}